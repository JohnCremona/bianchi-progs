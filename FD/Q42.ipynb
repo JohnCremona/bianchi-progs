{
 "cells": [
  {
   "cell_type": "code",
   "execution_count": null,
   "metadata": {},
   "outputs": [],
   "source": [
    "%runfile H3.py"
   ]
  },
  {
   "cell_type": "code",
   "execution_count": null,
   "metadata": {},
   "outputs": [],
   "source": [
    "from utils import (make_M_alphas, \n",
    "                   make_poly_from_edges, \n",
    "                   poly_equiv, tri0, tri1, tri2, cycle_poly, std_poly,\n",
    "                   poly_gl2_orbit_reps, \n",
    "                   aas_triangle_gl2_orbit_reps, \n",
    "                   square_parameters, \n",
    "                   aaa_triangle_parameters, \n",
    "                   aas_triangle_parameters,\n",
    "                   hexagon_parameters)\n",
    "from polyhedra import all_poly_types, poly_type, poly_types"
   ]
  },
  {
   "cell_type": "code",
   "execution_count": null,
   "metadata": {},
   "outputs": [],
   "source": [
    "d = 42"
   ]
  },
  {
   "cell_type": "code",
   "execution_count": null,
   "metadata": {},
   "outputs": [],
   "source": [
    "kdata = make_k(d)\n",
    "k = kdata['k']\n",
    "w = kdata['w']\n",
    "zero = k(0)\n",
    "one = k(1)\n",
    "Ireps = kdata['Ireps']\n",
    "inf = cusp(infinity, k)\n",
    "k.class_number()"
   ]
  },
  {
   "cell_type": "code",
   "execution_count": null,
   "metadata": {
    "scrolled": true
   },
   "outputs": [],
   "source": [
    "alphas, sigmas = alpha_sigma_data(d, verbose=True)\n",
    "#alphas = precomputed_alphas(k)\n",
    "M_alphas, alpha_inv = make_M_alphas(alphas)\n",
    "print(\"{} alphas\".format(len(alphas)))\n",
    "\n",
    "#sigmas = [cusp(s,k) for s in [oo, (w)/(2), (w + 1)/(3), (-w - 1)/(3), (-w + 1)/(3), (w - 1)/(3)]]\n",
    "\n",
    "print(\"{} sigmas\".format(len(sigmas)))"
   ]
  },
  {
   "cell_type": "code",
   "execution_count": null,
   "metadata": {},
   "outputs": [],
   "source": [
    "FD_proj = plot_FunDomain_projection(k, alphas, sigmas)\n",
    "FD_proj.show(figsize=[10,10])"
   ]
  },
  {
   "cell_type": "code",
   "execution_count": null,
   "metadata": {},
   "outputs": [],
   "source": [
    "sigmas"
   ]
  },
  {
   "cell_type": "code",
   "execution_count": null,
   "metadata": {},
   "outputs": [],
   "source": [
    "alphas"
   ]
  },
  {
   "cell_type": "code",
   "execution_count": null,
   "metadata": {},
   "outputs": [],
   "source": [
    "polys, hemis = all_polyhedra(k, alphas)\n",
    "print(\"{} polyhedra constructed\".format(len(polys)))"
   ]
  },
  {
   "cell_type": "code",
   "execution_count": null,
   "metadata": {},
   "outputs": [],
   "source": [
    "poly_types(polys)"
   ]
  },
  {
   "cell_type": "code",
   "execution_count": null,
   "metadata": {},
   "outputs": [],
   "source": [
    "all_poly_types(polys)"
   ]
  },
  {
   "cell_type": "code",
   "execution_count": null,
   "metadata": {},
   "outputs": [],
   "source": [
    "#assert len(polys)==22\n",
    "for G in polys: show(G)"
   ]
  },
  {
   "cell_type": "code",
   "execution_count": null,
   "metadata": {},
   "outputs": [],
   "source": [
    "triangles = [make_poly_from_edges(t,k) for t in sum([[F for F in G.faces() if len(F)==3] for G in polys],[])]\n",
    "squares = [make_poly_from_edges(t,k) for t in sum([[F for F in G.faces() if len(F)==4] for G in polys],[])]\n",
    "hexagons = [make_poly_from_edges(t,k) for t in sum([[F for F in G.faces() if len(F)==6] for G in polys],[])]\n",
    "aaa_triangles = [T for T in triangles if is_poly_principal(T)]\n",
    "aas_triangles = [T for T in triangles if not is_poly_principal(T)]"
   ]
  },
  {
   "cell_type": "code",
   "execution_count": null,
   "metadata": {},
   "outputs": [],
   "source": [
    "[len(t) for t in [aaa_triangles, aas_triangles, squares, hexagons]]"
   ]
  },
  {
   "cell_type": "code",
   "execution_count": null,
   "metadata": {},
   "outputs": [],
   "source": [
    "aaa_triangles0 = poly_gl2_orbit_reps(aaa_triangles, alphas)\n",
    "aas_triangles0 = aas_triangle_gl2_orbit_reps(aas_triangles, alphas)\n",
    "squares0 = poly_gl2_orbit_reps(squares, alphas)\n",
    "hexagons0 = poly_gl2_orbit_reps(hexagons, alphas)"
   ]
  },
  {
   "cell_type": "code",
   "execution_count": null,
   "metadata": {},
   "outputs": [],
   "source": [
    "[len(t) for t in [aaa_triangles0, aas_triangles0, squares0, hexagons0]]"
   ]
  },
  {
   "cell_type": "code",
   "execution_count": null,
   "metadata": {},
   "outputs": [],
   "source": [
    "triangles0 = [T for T in aaa_triangles0 if any(poly_equiv(T, t) for t in [tri0(k), tri1(k), tri2(k)])]\n",
    "triangles1 = [T for T in aaa_triangles0 if not any(poly_equiv(T, t) for t in [tri0(k), tri1(k), tri2(k)])]\n",
    "triangles0, triangles1"
   ]
  },
  {
   "cell_type": "code",
   "execution_count": null,
   "metadata": {},
   "outputs": [],
   "source": [
    "aaa = [aaa_triangle_parameters(T, alphas, M_alphas) for T in triangles1]"
   ]
  },
  {
   "cell_type": "code",
   "execution_count": null,
   "metadata": {},
   "outputs": [],
   "source": [
    "aas = [aas_triangle_parameters(T, alphas, M_alphas, sigmas) for T in aas_triangles0]"
   ]
  },
  {
   "cell_type": "code",
   "execution_count": null,
   "metadata": {},
   "outputs": [],
   "source": [
    "squ = [square_parameters(S, alphas, M_alphas, alpha_inv) for S in squares0]"
   ]
  },
  {
   "cell_type": "code",
   "execution_count": null,
   "metadata": {},
   "outputs": [],
   "source": [
    "hex = [hexagon_parameters(H, alphas, M_alphas) for H in hexagons0]"
   ]
  },
  {
   "cell_type": "code",
   "execution_count": null,
   "metadata": {},
   "outputs": [],
   "source": [
    "plot_Bianchi_diagram(k,hemis)"
   ]
  },
  {
   "cell_type": "code",
   "execution_count": null,
   "metadata": {},
   "outputs": [],
   "source": []
  },
  {
   "cell_type": "code",
   "execution_count": null,
   "metadata": {},
   "outputs": [],
   "source": []
  }
 ],
 "metadata": {
  "kernelspec": {
   "display_name": "SageMath 9.5",
   "language": "sage",
   "name": "sagemath"
  },
  "language_info": {
   "codemirror_mode": {
    "name": "ipython",
    "version": 3
   },
   "file_extension": ".py",
   "mimetype": "text/x-python",
   "name": "python",
   "nbconvert_exporter": "python",
   "pygments_lexer": "ipython3",
   "version": "3.8.10"
  }
 },
 "nbformat": 4,
 "nbformat_minor": 4
}
